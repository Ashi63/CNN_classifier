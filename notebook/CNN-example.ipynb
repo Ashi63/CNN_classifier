{
 "cells": [
  {
   "cell_type": "code",
   "execution_count": 1,
   "id": "c584b974-d563-4826-b9d3-0c24cc0af6e1",
   "metadata": {},
   "outputs": [],
   "source": [
    "import tensorflow as tf\n",
    "import os\n",
    "from tqdm import tqdm\n",
    "import urllib.request as req"
   ]
  },
  {
   "cell_type": "code",
   "execution_count": 2,
   "id": "50bc064e-bb98-485a-bda7-a2ac1df49d5c",
   "metadata": {},
   "outputs": [],
   "source": [
    "source_url = \"https://download.microsoft.com/download/3/E/1/3E1C3F21-ECDB-4869-8368-6DEBA77B919F/kagglecatsanddogs_3367a.zip\""
   ]
  },
  {
   "cell_type": "code",
   "execution_count": 3,
   "id": "4c7a2380-e3de-489f-aad8-25c490710b0b",
   "metadata": {},
   "outputs": [],
   "source": [
    "destination = 'data'\n",
    "data_file = 'data.zip'"
   ]
  },
  {
   "cell_type": "code",
   "execution_count": null,
   "id": "a9df733f-1f97-4fcc-b79e-b2ae82b168dc",
   "metadata": {},
   "outputs": [],
   "source": []
  }
 ],
 "metadata": {
  "kernelspec": {
   "display_name": "Python 3 (ipykernel)",
   "language": "python",
   "name": "python3"
  },
  "language_info": {
   "codemirror_mode": {
    "name": "ipython",
    "version": 3
   },
   "file_extension": ".py",
   "mimetype": "text/x-python",
   "name": "python",
   "nbconvert_exporter": "python",
   "pygments_lexer": "ipython3",
   "version": "3.9.13"
  }
 },
 "nbformat": 4,
 "nbformat_minor": 5
}
